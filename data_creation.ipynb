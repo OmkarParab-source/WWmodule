{
 "cells": [
  {
   "cell_type": "code",
   "execution_count": 8,
   "metadata": {},
   "outputs": [],
   "source": [
    "import os\n",
    "import IPython\n",
    "from pydub import AudioSegment\n",
    "from utils import Datainfo"
   ]
  },
  {
   "cell_type": "code",
   "execution_count": 9,
   "metadata": {},
   "outputs": [],
   "source": [
    "posDir = Datainfo[\"positives\"]\n",
    "negDir = Datainfo[\"negatives\"]\n",
    "templates = Datainfo[\"backgrounds\"]"
   ]
  },
  {
   "cell_type": "code",
   "execution_count": 13,
   "metadata": {},
   "outputs": [],
   "source": [
    "# Unit test\n",
    "\n",
    "sampleDir = os.path.join(posDir, os.listdir(posDir)[0])\n",
    "audioSample = AudioSegment.from_wav(sampleDir)\n",
    "\n",
    "templateDir = os.path.join(templates, os.listdir(templates)[0])\n",
    "template = AudioSegment.from_wav(templateDir)"
   ]
  },
  {
   "cell_type": "code",
   "execution_count": 15,
   "metadata": {},
   "outputs": [],
   "source": [
    "test = template.overlay(audioSample, position=1000)"
   ]
  },
  {
   "cell_type": "code",
   "execution_count": 18,
   "metadata": {},
   "outputs": [
    {
     "data": {
      "text/plain": [
       "<_io.BufferedRandom name='e:\\\\Prototype\\\\WWmodule\\\\Data\\\\tests\\\\overlayTest.wav'>"
      ]
     },
     "execution_count": 18,
     "metadata": {},
     "output_type": "execute_result"
    }
   ],
   "source": [
    "test.export(os.path.join(Datainfo[\"dir\"], \"tests\", \"overlayTest.wav\"), format=\"wav\")"
   ]
  },
  {
   "cell_type": "code",
   "execution_count": null,
   "metadata": {},
   "outputs": [],
   "source": []
  }
 ],
 "metadata": {
  "interpreter": {
   "hash": "c4706d3662860fc5143281a07b649fbce128a1081ce22e9fc6d3a666fe018480"
  },
  "kernelspec": {
   "display_name": "Python 3.10.2 ('venv': venv)",
   "language": "python",
   "name": "python3"
  },
  "language_info": {
   "codemirror_mode": {
    "name": "ipython",
    "version": 3
   },
   "file_extension": ".py",
   "mimetype": "text/x-python",
   "name": "python",
   "nbconvert_exporter": "python",
   "pygments_lexer": "ipython3",
   "version": "3.10.2"
  },
  "orig_nbformat": 4
 },
 "nbformat": 4,
 "nbformat_minor": 2
}
