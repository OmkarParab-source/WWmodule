{
 "cells": [
  {
   "cell_type": "code",
   "execution_count": 2,
   "metadata": {},
   "outputs": [],
   "source": [
    "import os\n",
    "import pandas as pd\n",
    "from scipy.io import wavfile\n",
    "from utils import Datainfo\n",
    "from matplotlib import pyplot as plt\n",
    "%matplotlib inline"
   ]
  },
  {
   "cell_type": "code",
   "execution_count": 3,
   "metadata": {},
   "outputs": [],
   "source": [
    "dir = Datainfo[\"dir\"]\n",
    "pos = Datainfo[\"positives\"]\n",
    "neg = Datainfo[\"negatives\"]\n",
    "templates = Datainfo[\"backgrounds\"]"
   ]
  },
  {
   "cell_type": "code",
   "execution_count": 4,
   "metadata": {},
   "outputs": [],
   "source": [
    "def audioDF(dir, ext):\n",
    "    fileList = [x for x in os.listdir(dir) if x.endswith(ext)]\n",
    "    filePath = [os.path.join(dir, x) for x in fileList]\n",
    "    df = pd.DataFrame({\n",
    "        'files': fileList,\n",
    "        'paths': filePath,\n",
    "    })\n",
    "    return df"
   ]
  },
  {
   "cell_type": "code",
   "execution_count": 5,
   "metadata": {},
   "outputs": [],
   "source": [
    "def durAudio(filepath):\n",
    "    rate, data = wavfile.read(filepath)\n",
    "    return len(data)/rate"
   ]
  },
  {
   "cell_type": "code",
   "execution_count": 6,
   "metadata": {},
   "outputs": [
    {
     "data": {
      "text/html": [
       "<div>\n",
       "<style scoped>\n",
       "    .dataframe tbody tr th:only-of-type {\n",
       "        vertical-align: middle;\n",
       "    }\n",
       "\n",
       "    .dataframe tbody tr th {\n",
       "        vertical-align: top;\n",
       "    }\n",
       "\n",
       "    .dataframe thead th {\n",
       "        text-align: right;\n",
       "    }\n",
       "</style>\n",
       "<table border=\"1\" class=\"dataframe\">\n",
       "  <thead>\n",
       "    <tr style=\"text-align: right;\">\n",
       "      <th></th>\n",
       "      <th>files</th>\n",
       "      <th>paths</th>\n",
       "    </tr>\n",
       "  </thead>\n",
       "  <tbody>\n",
       "    <tr>\n",
       "      <th>0</th>\n",
       "      <td>positive1.wav</td>\n",
       "      <td>e:\\Prototype\\WWmodule\\Data\\positives\\positive1...</td>\n",
       "    </tr>\n",
       "    <tr>\n",
       "      <th>1</th>\n",
       "      <td>positive10.wav</td>\n",
       "      <td>e:\\Prototype\\WWmodule\\Data\\positives\\positive1...</td>\n",
       "    </tr>\n",
       "    <tr>\n",
       "      <th>2</th>\n",
       "      <td>positive11.wav</td>\n",
       "      <td>e:\\Prototype\\WWmodule\\Data\\positives\\positive1...</td>\n",
       "    </tr>\n",
       "    <tr>\n",
       "      <th>3</th>\n",
       "      <td>positive12.wav</td>\n",
       "      <td>e:\\Prototype\\WWmodule\\Data\\positives\\positive1...</td>\n",
       "    </tr>\n",
       "    <tr>\n",
       "      <th>4</th>\n",
       "      <td>positive13.wav</td>\n",
       "      <td>e:\\Prototype\\WWmodule\\Data\\positives\\positive1...</td>\n",
       "    </tr>\n",
       "  </tbody>\n",
       "</table>\n",
       "</div>"
      ],
      "text/plain": [
       "            files                                              paths\n",
       "0   positive1.wav  e:\\Prototype\\WWmodule\\Data\\positives\\positive1...\n",
       "1  positive10.wav  e:\\Prototype\\WWmodule\\Data\\positives\\positive1...\n",
       "2  positive11.wav  e:\\Prototype\\WWmodule\\Data\\positives\\positive1...\n",
       "3  positive12.wav  e:\\Prototype\\WWmodule\\Data\\positives\\positive1...\n",
       "4  positive13.wav  e:\\Prototype\\WWmodule\\Data\\positives\\positive1..."
      ]
     },
     "execution_count": 6,
     "metadata": {},
     "output_type": "execute_result"
    }
   ],
   "source": [
    "posData = audioDF(pos, \"wav\")\n",
    "posData.head()"
   ]
  },
  {
   "cell_type": "code",
   "execution_count": 7,
   "metadata": {},
   "outputs": [
    {
     "data": {
      "text/html": [
       "<div>\n",
       "<style scoped>\n",
       "    .dataframe tbody tr th:only-of-type {\n",
       "        vertical-align: middle;\n",
       "    }\n",
       "\n",
       "    .dataframe tbody tr th {\n",
       "        vertical-align: top;\n",
       "    }\n",
       "\n",
       "    .dataframe thead th {\n",
       "        text-align: right;\n",
       "    }\n",
       "</style>\n",
       "<table border=\"1\" class=\"dataframe\">\n",
       "  <thead>\n",
       "    <tr style=\"text-align: right;\">\n",
       "      <th></th>\n",
       "      <th>files</th>\n",
       "      <th>paths</th>\n",
       "      <th>durations</th>\n",
       "    </tr>\n",
       "  </thead>\n",
       "  <tbody>\n",
       "    <tr>\n",
       "      <th>0</th>\n",
       "      <td>positive1.wav</td>\n",
       "      <td>e:\\Prototype\\WWmodule\\Data\\positives\\positive1...</td>\n",
       "      <td>1.04</td>\n",
       "    </tr>\n",
       "    <tr>\n",
       "      <th>1</th>\n",
       "      <td>positive10.wav</td>\n",
       "      <td>e:\\Prototype\\WWmodule\\Data\\positives\\positive1...</td>\n",
       "      <td>0.55</td>\n",
       "    </tr>\n",
       "    <tr>\n",
       "      <th>2</th>\n",
       "      <td>positive11.wav</td>\n",
       "      <td>e:\\Prototype\\WWmodule\\Data\\positives\\positive1...</td>\n",
       "      <td>0.55</td>\n",
       "    </tr>\n",
       "    <tr>\n",
       "      <th>3</th>\n",
       "      <td>positive12.wav</td>\n",
       "      <td>e:\\Prototype\\WWmodule\\Data\\positives\\positive1...</td>\n",
       "      <td>0.75</td>\n",
       "    </tr>\n",
       "    <tr>\n",
       "      <th>4</th>\n",
       "      <td>positive13.wav</td>\n",
       "      <td>e:\\Prototype\\WWmodule\\Data\\positives\\positive1...</td>\n",
       "      <td>0.65</td>\n",
       "    </tr>\n",
       "  </tbody>\n",
       "</table>\n",
       "</div>"
      ],
      "text/plain": [
       "            files                                              paths  \\\n",
       "0   positive1.wav  e:\\Prototype\\WWmodule\\Data\\positives\\positive1...   \n",
       "1  positive10.wav  e:\\Prototype\\WWmodule\\Data\\positives\\positive1...   \n",
       "2  positive11.wav  e:\\Prototype\\WWmodule\\Data\\positives\\positive1...   \n",
       "3  positive12.wav  e:\\Prototype\\WWmodule\\Data\\positives\\positive1...   \n",
       "4  positive13.wav  e:\\Prototype\\WWmodule\\Data\\positives\\positive1...   \n",
       "\n",
       "   durations  \n",
       "0       1.04  \n",
       "1       0.55  \n",
       "2       0.55  \n",
       "3       0.75  \n",
       "4       0.65  "
      ]
     },
     "execution_count": 7,
     "metadata": {},
     "output_type": "execute_result"
    }
   ],
   "source": [
    "posData[\"durations\"] = [durAudio(x) for x in posData[\"paths\"]]\n",
    "posData.head()"
   ]
  },
  {
   "cell_type": "code",
   "execution_count": 8,
   "metadata": {},
   "outputs": [
    {
     "data": {
      "text/html": [
       "<div>\n",
       "<style scoped>\n",
       "    .dataframe tbody tr th:only-of-type {\n",
       "        vertical-align: middle;\n",
       "    }\n",
       "\n",
       "    .dataframe tbody tr th {\n",
       "        vertical-align: top;\n",
       "    }\n",
       "\n",
       "    .dataframe thead th {\n",
       "        text-align: right;\n",
       "    }\n",
       "</style>\n",
       "<table border=\"1\" class=\"dataframe\">\n",
       "  <thead>\n",
       "    <tr style=\"text-align: right;\">\n",
       "      <th></th>\n",
       "      <th>durations</th>\n",
       "    </tr>\n",
       "  </thead>\n",
       "  <tbody>\n",
       "    <tr>\n",
       "      <th>count</th>\n",
       "      <td>47.000000</td>\n",
       "    </tr>\n",
       "    <tr>\n",
       "      <th>mean</th>\n",
       "      <td>0.879362</td>\n",
       "    </tr>\n",
       "    <tr>\n",
       "      <th>std</th>\n",
       "      <td>0.232345</td>\n",
       "    </tr>\n",
       "    <tr>\n",
       "      <th>min</th>\n",
       "      <td>0.500000</td>\n",
       "    </tr>\n",
       "    <tr>\n",
       "      <th>25%</th>\n",
       "      <td>0.725000</td>\n",
       "    </tr>\n",
       "    <tr>\n",
       "      <th>50%</th>\n",
       "      <td>0.870000</td>\n",
       "    </tr>\n",
       "    <tr>\n",
       "      <th>75%</th>\n",
       "      <td>1.000000</td>\n",
       "    </tr>\n",
       "    <tr>\n",
       "      <th>max</th>\n",
       "      <td>1.420000</td>\n",
       "    </tr>\n",
       "  </tbody>\n",
       "</table>\n",
       "</div>"
      ],
      "text/plain": [
       "       durations\n",
       "count  47.000000\n",
       "mean    0.879362\n",
       "std     0.232345\n",
       "min     0.500000\n",
       "25%     0.725000\n",
       "50%     0.870000\n",
       "75%     1.000000\n",
       "max     1.420000"
      ]
     },
     "execution_count": 8,
     "metadata": {},
     "output_type": "execute_result"
    }
   ],
   "source": [
    "posData.describe()"
   ]
  },
  {
   "cell_type": "code",
   "execution_count": 9,
   "metadata": {},
   "outputs": [
    {
     "data": {
      "image/png": "[encoded data removed]",
      "text/plain": [
       "<Figure size 432x288 with 1 Axes>"
      ]
     },
     "metadata": {
      "needs_background": "light"
     },
     "output_type": "display_data"
    }
   ],
   "source": [
    "plt.boxplot(x=posData[\"durations\"])\n",
    "plt.show()"
   ]
  },
  {
   "cell_type": "code",
   "execution_count": null,
   "metadata": {},
   "outputs": [],
   "source": []
  }
 ],
 "metadata": {
  "interpreter": {
   "hash": "c4706d3662860fc5143281a07b649fbce128a1081ce22e9fc6d3a666fe018480"
  },
  "kernelspec": {
   "display_name": "Python 3.10.2 ('venv': venv)",
   "language": "python",
   "name": "python3"
  },
  "language_info": {
   "codemirror_mode": {
    "name": "ipython",
    "version": 3
   },
   "file_extension": ".py",
   "mimetype": "text/x-python",
   "name": "python",
   "nbconvert_exporter": "python",
   "pygments_lexer": "ipython3",
   "version": "3.10.2"
  },
  "orig_nbformat": 4
 },
 "nbformat": 4,
 "nbformat_minor": 2
}
