{
 "cells": [
  {
   "cell_type": "code",
   "execution_count": 13,
   "metadata": {},
   "outputs": [],
   "source": [
    "import os\n",
    "import pandas as pd\n",
    "from pydub import AudioSegment\n",
    "from scipy.io import wavfile\n",
    "from data_utils import Datainfo\n",
    "from matplotlib import pyplot as plt\n",
    "%matplotlib inline"
   ]
  },
  {
   "cell_type": "code",
   "execution_count": 14,
   "metadata": {},
   "outputs": [],
   "source": [
    "dir = Datainfo[\"dir\"]\n",
    "pos = Datainfo[\"positives\"]\n",
    "neg = Datainfo[\"negatives\"]\n",
    "templates = Datainfo[\"backgrounds\"]"
   ]
  },
  {
   "cell_type": "code",
   "execution_count": 15,
   "metadata": {},
   "outputs": [],
   "source": [
    "def audioDF(dir, ext):\n",
    "    fileList = [x for x in os.listdir(dir) if x.endswith(ext)]\n",
    "    filePath = [os.path.join(dir, x) for x in fileList]\n",
    "    df = pd.DataFrame({\n",
    "        'files': fileList,\n",
    "        'paths': filePath,\n",
    "    })\n",
    "    return df"
   ]
  },
  {
   "cell_type": "code",
   "execution_count": 16,
   "metadata": {},
   "outputs": [],
   "source": [
    "def durAudio(filepath):\n",
    "    rate, data = wavfile.read(filepath)\n",
    "    return len(data)/rate\n",
    "\n",
    "def return_dBFS(filepath):\n",
    "    segment = AudioSegment.from_wav(filepath)\n",
    "    return segment.dBFS"
   ]
  },
  {
   "cell_type": "code",
   "execution_count": 17,
   "metadata": {},
   "outputs": [
    {
     "data": {
      "text/html": [
       "<div>\n",
       "<style scoped>\n",
       "    .dataframe tbody tr th:only-of-type {\n",
       "        vertical-align: middle;\n",
       "    }\n",
       "\n",
       "    .dataframe tbody tr th {\n",
       "        vertical-align: top;\n",
       "    }\n",
       "\n",
       "    .dataframe thead th {\n",
       "        text-align: right;\n",
       "    }\n",
       "</style>\n",
       "<table border=\"1\" class=\"dataframe\">\n",
       "  <thead>\n",
       "    <tr style=\"text-align: right;\">\n",
       "      <th></th>\n",
       "      <th>files</th>\n",
       "      <th>paths</th>\n",
       "    </tr>\n",
       "  </thead>\n",
       "  <tbody>\n",
       "    <tr>\n",
       "      <th>0</th>\n",
       "      <td>audio1.wav</td>\n",
       "      <td>e:\\Prototype\\WWmodule\\Data\\positives\\audio1.wav</td>\n",
       "    </tr>\n",
       "    <tr>\n",
       "      <th>1</th>\n",
       "      <td>audio10.wav</td>\n",
       "      <td>e:\\Prototype\\WWmodule\\Data\\positives\\audio10.wav</td>\n",
       "    </tr>\n",
       "    <tr>\n",
       "      <th>2</th>\n",
       "      <td>audio11.wav</td>\n",
       "      <td>e:\\Prototype\\WWmodule\\Data\\positives\\audio11.wav</td>\n",
       "    </tr>\n",
       "    <tr>\n",
       "      <th>3</th>\n",
       "      <td>audio12.wav</td>\n",
       "      <td>e:\\Prototype\\WWmodule\\Data\\positives\\audio12.wav</td>\n",
       "    </tr>\n",
       "    <tr>\n",
       "      <th>4</th>\n",
       "      <td>audio13.wav</td>\n",
       "      <td>e:\\Prototype\\WWmodule\\Data\\positives\\audio13.wav</td>\n",
       "    </tr>\n",
       "  </tbody>\n",
       "</table>\n",
       "</div>"
      ],
      "text/plain": [
       "         files                                             paths\n",
       "0   audio1.wav   e:\\Prototype\\WWmodule\\Data\\positives\\audio1.wav\n",
       "1  audio10.wav  e:\\Prototype\\WWmodule\\Data\\positives\\audio10.wav\n",
       "2  audio11.wav  e:\\Prototype\\WWmodule\\Data\\positives\\audio11.wav\n",
       "3  audio12.wav  e:\\Prototype\\WWmodule\\Data\\positives\\audio12.wav\n",
       "4  audio13.wav  e:\\Prototype\\WWmodule\\Data\\positives\\audio13.wav"
      ]
     },
     "execution_count": 17,
     "metadata": {},
     "output_type": "execute_result"
    }
   ],
   "source": [
    "posData = audioDF(pos, \"wav\")\n",
    "posData.head()"
   ]
  },
  {
   "cell_type": "code",
   "execution_count": 18,
   "metadata": {},
   "outputs": [
    {
     "data": {
      "text/html": [
       "<div>\n",
       "<style scoped>\n",
       "    .dataframe tbody tr th:only-of-type {\n",
       "        vertical-align: middle;\n",
       "    }\n",
       "\n",
       "    .dataframe tbody tr th {\n",
       "        vertical-align: top;\n",
       "    }\n",
       "\n",
       "    .dataframe thead th {\n",
       "        text-align: right;\n",
       "    }\n",
       "</style>\n",
       "<table border=\"1\" class=\"dataframe\">\n",
       "  <thead>\n",
       "    <tr style=\"text-align: right;\">\n",
       "      <th></th>\n",
       "      <th>files</th>\n",
       "      <th>paths</th>\n",
       "      <th>durations</th>\n",
       "      <th>dBFS</th>\n",
       "    </tr>\n",
       "  </thead>\n",
       "  <tbody>\n",
       "    <tr>\n",
       "      <th>0</th>\n",
       "      <td>audio1.wav</td>\n",
       "      <td>e:\\Prototype\\WWmodule\\Data\\positives\\audio1.wav</td>\n",
       "      <td>1.04</td>\n",
       "      <td>-13.998772</td>\n",
       "    </tr>\n",
       "    <tr>\n",
       "      <th>1</th>\n",
       "      <td>audio10.wav</td>\n",
       "      <td>e:\\Prototype\\WWmodule\\Data\\positives\\audio10.wav</td>\n",
       "      <td>0.58</td>\n",
       "      <td>-14.000100</td>\n",
       "    </tr>\n",
       "    <tr>\n",
       "      <th>2</th>\n",
       "      <td>audio11.wav</td>\n",
       "      <td>e:\\Prototype\\WWmodule\\Data\\positives\\audio11.wav</td>\n",
       "      <td>1.20</td>\n",
       "      <td>-14.132630</td>\n",
       "    </tr>\n",
       "    <tr>\n",
       "      <th>3</th>\n",
       "      <td>audio12.wav</td>\n",
       "      <td>e:\\Prototype\\WWmodule\\Data\\positives\\audio12.wav</td>\n",
       "      <td>1.03</td>\n",
       "      <td>-14.340129</td>\n",
       "    </tr>\n",
       "    <tr>\n",
       "      <th>4</th>\n",
       "      <td>audio13.wav</td>\n",
       "      <td>e:\\Prototype\\WWmodule\\Data\\positives\\audio13.wav</td>\n",
       "      <td>1.33</td>\n",
       "      <td>-13.998772</td>\n",
       "    </tr>\n",
       "  </tbody>\n",
       "</table>\n",
       "</div>"
      ],
      "text/plain": [
       "         files                                             paths  durations  \\\n",
       "0   audio1.wav   e:\\Prototype\\WWmodule\\Data\\positives\\audio1.wav       1.04   \n",
       "1  audio10.wav  e:\\Prototype\\WWmodule\\Data\\positives\\audio10.wav       0.58   \n",
       "2  audio11.wav  e:\\Prototype\\WWmodule\\Data\\positives\\audio11.wav       1.20   \n",
       "3  audio12.wav  e:\\Prototype\\WWmodule\\Data\\positives\\audio12.wav       1.03   \n",
       "4  audio13.wav  e:\\Prototype\\WWmodule\\Data\\positives\\audio13.wav       1.33   \n",
       "\n",
       "        dBFS  \n",
       "0 -13.998772  \n",
       "1 -14.000100  \n",
       "2 -14.132630  \n",
       "3 -14.340129  \n",
       "4 -13.998772  "
      ]
     },
     "execution_count": 18,
     "metadata": {},
     "output_type": "execute_result"
    }
   ],
   "source": [
    "posData[\"durations\"] = [durAudio(x) for x in posData[\"paths\"]]\n",
    "posData[\"dBFS\"] = [return_dBFS(x) for x in posData[\"paths\"]]\n",
    "posData.head()"
   ]
  },
  {
   "cell_type": "code",
   "execution_count": 19,
   "metadata": {},
   "outputs": [
    {
     "data": {
      "text/html": [
       "<div>\n",
       "<style scoped>\n",
       "    .dataframe tbody tr th:only-of-type {\n",
       "        vertical-align: middle;\n",
       "    }\n",
       "\n",
       "    .dataframe tbody tr th {\n",
       "        vertical-align: top;\n",
       "    }\n",
       "\n",
       "    .dataframe thead th {\n",
       "        text-align: right;\n",
       "    }\n",
       "</style>\n",
       "<table border=\"1\" class=\"dataframe\">\n",
       "  <thead>\n",
       "    <tr style=\"text-align: right;\">\n",
       "      <th></th>\n",
       "      <th>durations</th>\n",
       "      <th>dBFS</th>\n",
       "    </tr>\n",
       "  </thead>\n",
       "  <tbody>\n",
       "    <tr>\n",
       "      <th>count</th>\n",
       "      <td>47.000000</td>\n",
       "      <td>47.000000</td>\n",
       "    </tr>\n",
       "    <tr>\n",
       "      <th>mean</th>\n",
       "      <td>0.879362</td>\n",
       "      <td>-14.030959</td>\n",
       "    </tr>\n",
       "    <tr>\n",
       "      <th>std</th>\n",
       "      <td>0.232345</td>\n",
       "      <td>0.070434</td>\n",
       "    </tr>\n",
       "    <tr>\n",
       "      <th>min</th>\n",
       "      <td>0.500000</td>\n",
       "      <td>-14.340129</td>\n",
       "    </tr>\n",
       "    <tr>\n",
       "      <th>25%</th>\n",
       "      <td>0.725000</td>\n",
       "      <td>-14.010735</td>\n",
       "    </tr>\n",
       "    <tr>\n",
       "      <th>50%</th>\n",
       "      <td>0.870000</td>\n",
       "      <td>-14.001429</td>\n",
       "    </tr>\n",
       "    <tr>\n",
       "      <th>75%</th>\n",
       "      <td>1.000000</td>\n",
       "      <td>-14.000100</td>\n",
       "    </tr>\n",
       "    <tr>\n",
       "      <th>max</th>\n",
       "      <td>1.420000</td>\n",
       "      <td>-13.998772</td>\n",
       "    </tr>\n",
       "  </tbody>\n",
       "</table>\n",
       "</div>"
      ],
      "text/plain": [
       "       durations       dBFS\n",
       "count  47.000000  47.000000\n",
       "mean    0.879362 -14.030959\n",
       "std     0.232345   0.070434\n",
       "min     0.500000 -14.340129\n",
       "25%     0.725000 -14.010735\n",
       "50%     0.870000 -14.001429\n",
       "75%     1.000000 -14.000100\n",
       "max     1.420000 -13.998772"
      ]
     },
     "execution_count": 19,
     "metadata": {},
     "output_type": "execute_result"
    }
   ],
   "source": [
    "posData.describe()"
   ]
  },
  {
   "cell_type": "code",
   "execution_count": 20,
   "metadata": {},
   "outputs": [
    {
     "data": {
      "image/png": "[encoded data removed]",
      "text/plain": [
       "<Figure size 432x288 with 1 Axes>"
      ]
     },
     "metadata": {
      "needs_background": "light"
     },
     "output_type": "display_data"
    }
   ],
   "source": [
    "plt.boxplot(x=posData[\"durations\"])\n",
    "plt.show()"
   ]
  },
  {
   "cell_type": "code",
   "execution_count": 21,
   "metadata": {},
   "outputs": [
    {
     "data": {
      "image/png": "[encoded data removed]",
      "text/plain": [
       "<Figure size 432x288 with 1 Axes>"
      ]
     },
     "metadata": {
      "needs_background": "light"
     },
     "output_type": "display_data"
    }
   ],
   "source": [
    "plt.boxplot(x=posData[\"dBFS\"])\n",
    "plt.show()"
   ]
  },
  {
   "cell_type": "code",
   "execution_count": 22,
   "metadata": {},
   "outputs": [
    {
     "data": {
      "text/html": [
       "<div>\n",
       "<style scoped>\n",
       "    .dataframe tbody tr th:only-of-type {\n",
       "        vertical-align: middle;\n",
       "    }\n",
       "\n",
       "    .dataframe tbody tr th {\n",
       "        vertical-align: top;\n",
       "    }\n",
       "\n",
       "    .dataframe thead th {\n",
       "        text-align: right;\n",
       "    }\n",
       "</style>\n",
       "<table border=\"1\" class=\"dataframe\">\n",
       "  <thead>\n",
       "    <tr style=\"text-align: right;\">\n",
       "      <th></th>\n",
       "      <th>files</th>\n",
       "      <th>paths</th>\n",
       "    </tr>\n",
       "  </thead>\n",
       "  <tbody>\n",
       "    <tr>\n",
       "      <th>0</th>\n",
       "      <td>audio1.wav</td>\n",
       "      <td>e:\\Prototype\\WWmodule\\Data\\negatives\\audio1.wav</td>\n",
       "    </tr>\n",
       "    <tr>\n",
       "      <th>1</th>\n",
       "      <td>audio10.wav</td>\n",
       "      <td>e:\\Prototype\\WWmodule\\Data\\negatives\\audio10.wav</td>\n",
       "    </tr>\n",
       "    <tr>\n",
       "      <th>2</th>\n",
       "      <td>audio11.wav</td>\n",
       "      <td>e:\\Prototype\\WWmodule\\Data\\negatives\\audio11.wav</td>\n",
       "    </tr>\n",
       "    <tr>\n",
       "      <th>3</th>\n",
       "      <td>audio12.wav</td>\n",
       "      <td>e:\\Prototype\\WWmodule\\Data\\negatives\\audio12.wav</td>\n",
       "    </tr>\n",
       "    <tr>\n",
       "      <th>4</th>\n",
       "      <td>audio13.wav</td>\n",
       "      <td>e:\\Prototype\\WWmodule\\Data\\negatives\\audio13.wav</td>\n",
       "    </tr>\n",
       "  </tbody>\n",
       "</table>\n",
       "</div>"
      ],
      "text/plain": [
       "         files                                             paths\n",
       "0   audio1.wav   e:\\Prototype\\WWmodule\\Data\\negatives\\audio1.wav\n",
       "1  audio10.wav  e:\\Prototype\\WWmodule\\Data\\negatives\\audio10.wav\n",
       "2  audio11.wav  e:\\Prototype\\WWmodule\\Data\\negatives\\audio11.wav\n",
       "3  audio12.wav  e:\\Prototype\\WWmodule\\Data\\negatives\\audio12.wav\n",
       "4  audio13.wav  e:\\Prototype\\WWmodule\\Data\\negatives\\audio13.wav"
      ]
     },
     "execution_count": 22,
     "metadata": {},
     "output_type": "execute_result"
    }
   ],
   "source": [
    "negData = audioDF(neg, \"wav\")\n",
    "negData.head()"
   ]
  },
  {
   "cell_type": "code",
   "execution_count": 23,
   "metadata": {},
   "outputs": [
    {
     "data": {
      "text/html": [
       "<div>\n",
       "<style scoped>\n",
       "    .dataframe tbody tr th:only-of-type {\n",
       "        vertical-align: middle;\n",
       "    }\n",
       "\n",
       "    .dataframe tbody tr th {\n",
       "        vertical-align: top;\n",
       "    }\n",
       "\n",
       "    .dataframe thead th {\n",
       "        text-align: right;\n",
       "    }\n",
       "</style>\n",
       "<table border=\"1\" class=\"dataframe\">\n",
       "  <thead>\n",
       "    <tr style=\"text-align: right;\">\n",
       "      <th></th>\n",
       "      <th>files</th>\n",
       "      <th>paths</th>\n",
       "      <th>durations</th>\n",
       "      <th>dBFS</th>\n",
       "    </tr>\n",
       "  </thead>\n",
       "  <tbody>\n",
       "    <tr>\n",
       "      <th>0</th>\n",
       "      <td>audio1.wav</td>\n",
       "      <td>e:\\Prototype\\WWmodule\\Data\\negatives\\audio1.wav</td>\n",
       "      <td>0.999938</td>\n",
       "      <td>-14.038713</td>\n",
       "    </tr>\n",
       "    <tr>\n",
       "      <th>1</th>\n",
       "      <td>audio10.wav</td>\n",
       "      <td>e:\\Prototype\\WWmodule\\Data\\negatives\\audio10.wav</td>\n",
       "      <td>0.999938</td>\n",
       "      <td>-14.200341</td>\n",
       "    </tr>\n",
       "    <tr>\n",
       "      <th>2</th>\n",
       "      <td>audio11.wav</td>\n",
       "      <td>e:\\Prototype\\WWmodule\\Data\\negatives\\audio11.wav</td>\n",
       "      <td>0.999938</td>\n",
       "      <td>-14.054741</td>\n",
       "    </tr>\n",
       "    <tr>\n",
       "      <th>3</th>\n",
       "      <td>audio12.wav</td>\n",
       "      <td>e:\\Prototype\\WWmodule\\Data\\negatives\\audio12.wav</td>\n",
       "      <td>0.999938</td>\n",
       "      <td>-14.242588</td>\n",
       "    </tr>\n",
       "    <tr>\n",
       "      <th>4</th>\n",
       "      <td>audio13.wav</td>\n",
       "      <td>e:\\Prototype\\WWmodule\\Data\\negatives\\audio13.wav</td>\n",
       "      <td>0.999938</td>\n",
       "      <td>-14.033377</td>\n",
       "    </tr>\n",
       "  </tbody>\n",
       "</table>\n",
       "</div>"
      ],
      "text/plain": [
       "         files                                             paths  durations  \\\n",
       "0   audio1.wav   e:\\Prototype\\WWmodule\\Data\\negatives\\audio1.wav   0.999938   \n",
       "1  audio10.wav  e:\\Prototype\\WWmodule\\Data\\negatives\\audio10.wav   0.999938   \n",
       "2  audio11.wav  e:\\Prototype\\WWmodule\\Data\\negatives\\audio11.wav   0.999938   \n",
       "3  audio12.wav  e:\\Prototype\\WWmodule\\Data\\negatives\\audio12.wav   0.999938   \n",
       "4  audio13.wav  e:\\Prototype\\WWmodule\\Data\\negatives\\audio13.wav   0.999938   \n",
       "\n",
       "        dBFS  \n",
       "0 -14.038713  \n",
       "1 -14.200341  \n",
       "2 -14.054741  \n",
       "3 -14.242588  \n",
       "4 -14.033377  "
      ]
     },
     "execution_count": 23,
     "metadata": {},
     "output_type": "execute_result"
    }
   ],
   "source": [
    "negData[\"durations\"] = [durAudio(x) for x in negData[\"paths\"]]\n",
    "negData[\"dBFS\"] = [return_dBFS(x) for x in negData[\"paths\"]]\n",
    "negData.head()"
   ]
  },
  {
   "cell_type": "code",
   "execution_count": 24,
   "metadata": {},
   "outputs": [
    {
     "data": {
      "text/html": [
       "<div>\n",
       "<style scoped>\n",
       "    .dataframe tbody tr th:only-of-type {\n",
       "        vertical-align: middle;\n",
       "    }\n",
       "\n",
       "    .dataframe tbody tr th {\n",
       "        vertical-align: top;\n",
       "    }\n",
       "\n",
       "    .dataframe thead th {\n",
       "        text-align: right;\n",
       "    }\n",
       "</style>\n",
       "<table border=\"1\" class=\"dataframe\">\n",
       "  <thead>\n",
       "    <tr style=\"text-align: right;\">\n",
       "      <th></th>\n",
       "      <th>durations</th>\n",
       "      <th>dBFS</th>\n",
       "    </tr>\n",
       "  </thead>\n",
       "  <tbody>\n",
       "    <tr>\n",
       "      <th>count</th>\n",
       "      <td>57.000000</td>\n",
       "      <td>57.000000</td>\n",
       "    </tr>\n",
       "    <tr>\n",
       "      <th>mean</th>\n",
       "      <td>0.991143</td>\n",
       "      <td>-14.332902</td>\n",
       "    </tr>\n",
       "    <tr>\n",
       "      <th>std</th>\n",
       "      <td>0.034725</td>\n",
       "      <td>0.352827</td>\n",
       "    </tr>\n",
       "    <tr>\n",
       "      <th>min</th>\n",
       "      <td>0.810562</td>\n",
       "      <td>-15.566737</td>\n",
       "    </tr>\n",
       "    <tr>\n",
       "      <th>25%</th>\n",
       "      <td>0.999938</td>\n",
       "      <td>-14.424816</td>\n",
       "    </tr>\n",
       "    <tr>\n",
       "      <th>50%</th>\n",
       "      <td>0.999938</td>\n",
       "      <td>-14.242588</td>\n",
       "    </tr>\n",
       "    <tr>\n",
       "      <th>75%</th>\n",
       "      <td>0.999938</td>\n",
       "      <td>-14.068121</td>\n",
       "    </tr>\n",
       "    <tr>\n",
       "      <th>max</th>\n",
       "      <td>0.999938</td>\n",
       "      <td>-13.994788</td>\n",
       "    </tr>\n",
       "  </tbody>\n",
       "</table>\n",
       "</div>"
      ],
      "text/plain": [
       "       durations       dBFS\n",
       "count  57.000000  57.000000\n",
       "mean    0.991143 -14.332902\n",
       "std     0.034725   0.352827\n",
       "min     0.810562 -15.566737\n",
       "25%     0.999938 -14.424816\n",
       "50%     0.999938 -14.242588\n",
       "75%     0.999938 -14.068121\n",
       "max     0.999938 -13.994788"
      ]
     },
     "execution_count": 24,
     "metadata": {},
     "output_type": "execute_result"
    }
   ],
   "source": [
    "negData.describe()"
   ]
  },
  {
   "cell_type": "code",
   "execution_count": 25,
   "metadata": {},
   "outputs": [
    {
     "data": {
      "image/png": "[encoded data removed]",
      "text/plain": [
       "<Figure size 432x288 with 1 Axes>"
      ]
     },
     "metadata": {
      "needs_background": "light"
     },
     "output_type": "display_data"
    }
   ],
   "source": [
    "plt.boxplot(x=negData[\"dBFS\"])\n",
    "plt.show()"
   ]
  }
 ],
 "metadata": {
  "interpreter": {
   "hash": "c4706d3662860fc5143281a07b649fbce128a1081ce22e9fc6d3a666fe018480"
  },
  "kernelspec": {
   "display_name": "Python 3.10.2 ('venv': venv)",
   "language": "python",
   "name": "python3"
  },
  "language_info": {
   "codemirror_mode": {
    "name": "ipython",
    "version": 3
   },
   "file_extension": ".py",
   "mimetype": "text/x-python",
   "name": "python",
   "nbconvert_exporter": "python",
   "pygments_lexer": "ipython3",
   "version": "3.10.2"
  },
  "orig_nbformat": 4
 },
 "nbformat": 4,
 "nbformat_minor": 2
}
